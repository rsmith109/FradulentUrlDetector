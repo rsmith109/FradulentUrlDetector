{
  "cells": [
    {
      "cell_type": "markdown",
      "metadata": {
        "id": "81MlyXr2vB2O"
      },
      "source": [
        "# Project 5: Malicious Urls\n",
        "## Aidan Jimenez & Russell Smith\n",
        "### 4/27/25\n",
        "\n",
        "### Description\n",
        "The notebook goes through a dataset of malicous urls and aims to analyze them by breaking out aspects of each of the links into a number value that can help make a distinct difference between each of the classification types of urls. There is also a section that uses a subset of the urls to try and analyze them with whois data.\n",
        "\n",
        "### Self-Evaluation\n",
        "Based off of what we completed with reference to the proposal document we got to the A level if not stretch. After testing of the learning models a neural net was not the most effective with this data so we had to change our path with the project and use gradient boosting as our main model. Due to the amount of time it took to get the whois information we aimed to make a proof of concept on how this project could develop with more information. Also the organization of visuals and markdown meet the need of an A level. "
      ]
    },
    {
      "cell_type": "markdown",
      "metadata": {},
      "source": [
        "## Imports and Data Loading\n",
        "This section is just the imports that are used and loading the csv with 600,000 urls."
      ]
    },
    {
      "cell_type": "code",
      "execution_count": null,
      "metadata": {
        "id": "5Iza27WmvyaO"
      },
      "outputs": [
        {
          "ename": "",
          "evalue": "",
          "output_type": "error",
          "traceback": [
            "\u001b[1;31mRunning cells with '.venv (Python 3.13.3)' requires the ipykernel package.\n",
            "\u001b[1;31mRun the following command to install 'ipykernel' into the Python environment. \n",
            "\u001b[1;31mCommand: '/home/mono/Documents/projects/DMMLSpring25/.venv/bin/python -m pip install ipykernel -U --force-reinstall'"
          ]
        }
      ],
      "source": [
        "import numpy as np\n",
        "import pandas as pd\n",
        "import matplotlib.pyplot as plt\n",
        "import seaborn as sns\n",
        "from urllib.parse import urlparse\n",
        "from urllib.request import urlopen\n",
        "from sklearn.metrics import classification_report\n",
        "from sklearn.model_selection import train_test_split\n",
        "from sklearn.metrics import accuracy_score\n",
        "\n",
        "from xgboost import XGBClassifier\n",
        "from sklearn.neural_network import MLPClassifier\n",
        "from sklearn.decomposition import PCA\n",
        "from sklearn.ensemble import RandomForestClassifier\n",
        "from sklearn.model_selection import GridSearchCV"
      ]
    },
    {
      "cell_type": "markdown",
      "metadata": {
        "id": "jHaZS5NVvsqj"
      },
      "source": [
        "Read in the data"
      ]
    },
    {
      "cell_type": "code",
      "execution_count": null,
      "metadata": {
        "colab": {
          "base_uri": "https://localhost:8080/",
          "height": 206
        },
        "id": "HZSf2aS1vwkY",
        "outputId": "e9d89940-6d4d-45f2-8a57-d440e1223b44"
      },
      "outputs": [
        {
          "ename": "",
          "evalue": "",
          "output_type": "error",
          "traceback": [
            "\u001b[1;31mRunning cells with '.venv (Python 3.13.3)' requires the ipykernel package.\n",
            "\u001b[1;31mRun the following command to install 'ipykernel' into the Python environment. \n",
            "\u001b[1;31mCommand: '/home/mono/Documents/projects/DMMLSpring25/.venv/bin/python -m pip install ipykernel -U --force-reinstall'"
          ]
        }
      ],
      "source": [
        "df = pd.read_csv(\"malicious_phish.csv\")\n",
        "df.head()"
      ]
    },
    {
      "cell_type": "code",
      "execution_count": null,
      "metadata": {
        "colab": {
          "base_uri": "https://localhost:8080/"
        },
        "id": "mK1CWbbvKlUY",
        "outputId": "1e697261-e480-4247-f7dc-cc8257652051"
      },
      "outputs": [
        {
          "ename": "",
          "evalue": "",
          "output_type": "error",
          "traceback": [
            "\u001b[1;31mRunning cells with '.venv (Python 3.13.3)' requires the ipykernel package.\n",
            "\u001b[1;31mRun the following command to install 'ipykernel' into the Python environment. \n",
            "\u001b[1;31mCommand: '/home/mono/Documents/projects/DMMLSpring25/.venv/bin/python -m pip install ipykernel -U --force-reinstall'"
          ]
        }
      ],
      "source": [
        "df.info()"
      ]
    },
    {
      "cell_type": "markdown",
      "metadata": {
        "id": "8nyBneTcwo_F"
      },
      "source": [
        "## Exploratory Data Analysis"
      ]
    },
    {
      "cell_type": "code",
      "execution_count": null,
      "metadata": {
        "colab": {
          "base_uri": "https://localhost:8080/",
          "height": 466
        },
        "id": "wHbMiotMwsiI",
        "outputId": "025d3747-2a51-4750-d43d-7034f2c08db0"
      },
      "outputs": [
        {
          "ename": "",
          "evalue": "",
          "output_type": "error",
          "traceback": [
            "\u001b[1;31mRunning cells with '.venv (Python 3.13.3)' requires the ipykernel package.\n",
            "\u001b[1;31mRun the following command to install 'ipykernel' into the Python environment. \n",
            "\u001b[1;31mCommand: '/home/mono/Documents/projects/DMMLSpring25/.venv/bin/python -m pip install ipykernel -U --force-reinstall'"
          ]
        }
      ],
      "source": [
        "df['type'].value_counts().plot(kind=\"bar\")\n",
        "plt.xlabel(\"Type\")\n",
        "plt.xticks(rotation=0)\n",
        "plt.ylabel(\"Frequency\")\n",
        "plt.title(\"Urls by Type\")"
      ]
    },
    {
      "cell_type": "code",
      "execution_count": null,
      "metadata": {
        "colab": {
          "base_uri": "https://localhost:8080/",
          "height": 424
        },
        "id": "dYjuf7I2JAKo",
        "outputId": "77624fb3-3097-444f-f71b-1ecc5446aeac"
      },
      "outputs": [
        {
          "ename": "",
          "evalue": "",
          "output_type": "error",
          "traceback": [
            "\u001b[1;31mRunning cells with '.venv (Python 3.13.3)' requires the ipykernel package.\n",
            "\u001b[1;31mRun the following command to install 'ipykernel' into the Python environment. \n",
            "\u001b[1;31mCommand: '/home/mono/Documents/projects/DMMLSpring25/.venv/bin/python -m pip install ipykernel -U --force-reinstall'"
          ]
        }
      ],
      "source": [
        "df['length'] = df['url'].apply(lambda x: len(x))\n",
        "df"
      ]
    },
    {
      "cell_type": "markdown",
      "metadata": {
        "id": "us1Cnpnc0BX_"
      },
      "source": [
        "A majority of our urls are beningn which is a non malicious link. It might cause issues in the future when trying to accurately detect what may be a malicous link. For the case of this model we may put all the malicous links together to make a more generic url detection system since it is more important to detect whether it is malicious or not as compared to which type of malicous activity it could be."
      ]
    },
    {
      "cell_type": "code",
      "execution_count": null,
      "metadata": {
        "colab": {
          "base_uri": "https://localhost:8080/",
          "height": 424
        },
        "id": "dwGB9Ri6z_q8",
        "outputId": "62c0403c-f8a7-4448-b707-f7d2f9e030be"
      },
      "outputs": [
        {
          "ename": "",
          "evalue": "",
          "output_type": "error",
          "traceback": [
            "\u001b[1;31mRunning cells with '.venv (Python 3.13.3)' requires the ipykernel package.\n",
            "\u001b[1;31mRun the following command to install 'ipykernel' into the Python environment. \n",
            "\u001b[1;31mCommand: '/home/mono/Documents/projects/DMMLSpring25/.venv/bin/python -m pip install ipykernel -U --force-reinstall'"
          ]
        }
      ],
      "source": [
        "#Count the number of each possible attributes that can be in a url\n",
        "attribute = ['@','?','-','=','.','#','%','+','$','!','*',',','//', '(', ')']\n",
        "for symbol in attribute:\n",
        "    df[symbol] = df['url'].apply(lambda x: x.count(symbol))\n",
        "df"
      ]
    },
    {
      "cell_type": "markdown",
      "metadata": {
        "id": "5wfasDuZQCpy"
      },
      "source": [
        "The one attribute that was interesting and messed with the accuracy of the model prediction was the number of slashes. Originally we tried a single slash and then a double slash causing the accuracy to drastically increase."
      ]
    },
    {
      "cell_type": "code",
      "execution_count": null,
      "metadata": {
        "colab": {
          "base_uri": "https://localhost:8080/"
        },
        "id": "be8Lv6FHSPxu",
        "outputId": "3e45ea62-f54d-4c7f-f923-85b2ce44e910"
      },
      "outputs": [
        {
          "ename": "",
          "evalue": "",
          "output_type": "error",
          "traceback": [
            "\u001b[1;31mRunning cells with '.venv (Python 3.13.3)' requires the ipykernel package.\n",
            "\u001b[1;31mRun the following command to install 'ipykernel' into the Python environment. \n",
            "\u001b[1;31mCommand: '/home/mono/Documents/projects/DMMLSpring25/.venv/bin/python -m pip install ipykernel -U --force-reinstall'"
          ]
        }
      ],
      "source": [
        "df['type'].unique()"
      ]
    },
    {
      "cell_type": "code",
      "execution_count": null,
      "metadata": {
        "colab": {
          "base_uri": "https://localhost:8080/",
          "height": 489
        },
        "id": "vVbc-t4r4UTw",
        "outputId": "49649479-8bd7-40ee-9f5b-2aab1b38e0cc"
      },
      "outputs": [
        {
          "ename": "",
          "evalue": "",
          "output_type": "error",
          "traceback": [
            "\u001b[1;31mRunning cells with '.venv (Python 3.13.3)' requires the ipykernel package.\n",
            "\u001b[1;31mRun the following command to install 'ipykernel' into the Python environment. \n",
            "\u001b[1;31mCommand: '/home/mono/Documents/projects/DMMLSpring25/.venv/bin/python -m pip install ipykernel -U --force-reinstall'"
          ]
        }
      ],
      "source": [
        "df.plot(x='//', y='type', kind=\"scatter\")\n",
        "plt.title(\"Slashes v Url Type\")"
      ]
    },
    {
      "cell_type": "markdown",
      "metadata": {
        "id": "A6qXt9EM5vOV"
      },
      "source": [
        "Based on this scatter plot it seems that both malware and defacement tend to have a range of slashes that they tend to fall in while benign and defacement have a more similar range of slashes."
      ]
    },
    {
      "cell_type": "code",
      "execution_count": null,
      "metadata": {
        "colab": {
          "base_uri": "https://localhost:8080/",
          "height": 489
        },
        "id": "4Mdmil2R6Z4e",
        "outputId": "cf58734f-8f5f-4fb4-e9fe-af6c079ed42c"
      },
      "outputs": [
        {
          "ename": "",
          "evalue": "",
          "output_type": "error",
          "traceback": [
            "\u001b[1;31mRunning cells with '.venv (Python 3.13.3)' requires the ipykernel package.\n",
            "\u001b[1;31mRun the following command to install 'ipykernel' into the Python environment. \n",
            "\u001b[1;31mCommand: '/home/mono/Documents/projects/DMMLSpring25/.venv/bin/python -m pip install ipykernel -U --force-reinstall'"
          ]
        }
      ],
      "source": [
        "df.plot(x='.', y='type', kind=\"scatter\")\n",
        "plt.title(\"Dots v Url Type\")"
      ]
    },
    {
      "cell_type": "markdown",
      "metadata": {
        "id": "W-zJu0Hh6hGa"
      },
      "source": [
        "The number of dots in the urls also seem to resemble the same pattern where the malware and the defacement have their own distrobution of dots while benign and phising is under a similar range"
      ]
    },
    {
      "cell_type": "code",
      "execution_count": null,
      "metadata": {
        "id": "3xurlpTt6gk6"
      },
      "outputs": [
        {
          "ename": "",
          "evalue": "",
          "output_type": "error",
          "traceback": [
            "\u001b[1;31mRunning cells with '.venv (Python 3.13.3)' requires the ipykernel package.\n",
            "\u001b[1;31mRun the following command to install 'ipykernel' into the Python environment. \n",
            "\u001b[1;31mCommand: '/home/mono/Documents/projects/DMMLSpring25/.venv/bin/python -m pip install ipykernel -U --force-reinstall'"
          ]
        }
      ],
      "source": [
        "# Determine if the url is being used by a url shortening service\n",
        "def detectShortened(original_url):\n",
        "  url_shorteners = [\n",
        "    \"bit.ly\",\n",
        "    \"tinyurl.com\",\n",
        "    \"ow.ly\",\n",
        "    \"is.gd\",\n",
        "    \"v.gd\",\n",
        "    \"soo.gd\",\n",
        "    \"t.co\",\n",
        "    \"lnkd.in\",\n",
        "    \"buff.ly\",\n",
        "    \"adf.ly\",\n",
        "    \"shorte.st\",\n",
        "    \"go.gl\",\n",
        "    \"y2u.be\",\n",
        "    \"youtu.be\",\n",
        "    \"goo.gl\",\n",
        "    \"po.st\",\n",
        "    \"qr.cr\",\n",
        "    \"snip.ly\",\n",
        "    \"rebrand.ly\",\n",
        "    \"bl.ink\",\n",
        "    \"kutt.it\",\n",
        "    \"cutt.ly\",\n",
        "    \"shorturl.at\",\n",
        "    \"tiny.cc\",\n",
        "    \"osf.io\",\n",
        "    \"doi.org\",\n",
        "    \"arxiv.org\",\n",
        "    \"git.io\",\n",
        "    \"tny.im\",\n",
        "    \"ulvis.net\",\n",
        "    \"yourls.org\",\n",
        "    \"polr.me\",\n",
        "    \"branch.io\",\n",
        "    \"app.goo.gl\",\n",
        "    \"bnc.lt\",\n",
        "    \"bitly.is\",\n",
        "    \"j.mp\",\n",
        "    \"on.mash.to\",\n",
        "    \"flip.it\",\n",
        "    \"instagr.am\",\n",
        "    \"pin.it\",\n",
        "    \"medium.com\",\n",
        "    \"at.at\",\n",
        "    \"su.pr\",\n",
        "    \"twitpic.com\",\n",
        "    \"flic.kr\",\n",
        "    \"posterous.com\",\n",
        "    \"digg.com\",\n",
        "    \"plurk.com\",\n",
        "    \"yep.it\",\n",
        "    \"zi.pe\",\n",
        "    \"linktr.ee\",\n",
        "    \"taplink.cc\",\n",
        "    \"bio.link\",\n",
        "    \"solo.to\",\n",
        "    \"beacons.ai\",\n",
        "    \"luma.events\",\n",
        "    \"eventbrite.com\",\n",
        "    \"bento.me\",\n",
        "    \"start.me\",\n",
        "    \"about.me\",\n",
        "    \"carrd.co\",\n",
        "    \"milkshake.app\",\n",
        "    \"paged.co\",\n",
        "    \"shortstack.com\",\n",
        "    \"woobox.com\",\n",
        "    \"easypromosapp.com\",\n",
        "    \"wishpond.com\",\n",
        "    \"vyper.io\",\n",
        "    \"kickofflabs.com\",\n",
        "    \"leadpages.net\",\n",
        "    \"instapage.com\",\n",
        "    \"unbounce.com\",\n",
        "    \"shortsw.com\"\n",
        "  ]\n",
        "\n",
        "  for url in url_shorteners:\n",
        "    if url in original_url:\n",
        "      return 1\n",
        "    else:\n",
        "      return 0\n",
        "\n",
        "\n",
        "df['redirect'] = df['url'].apply(detectShortened)"
      ]
    },
    {
      "cell_type": "code",
      "execution_count": null,
      "metadata": {
        "colab": {
          "base_uri": "https://localhost:8080/",
          "height": 489
        },
        "id": "Vf0GVa3r94dd",
        "outputId": "56c4ecf4-723e-4cdd-ce05-5107a192e62e"
      },
      "outputs": [
        {
          "ename": "",
          "evalue": "",
          "output_type": "error",
          "traceback": [
            "\u001b[1;31mRunning cells with '.venv (Python 3.13.3)' requires the ipykernel package.\n",
            "\u001b[1;31mRun the following command to install 'ipykernel' into the Python environment. \n",
            "\u001b[1;31mCommand: '/home/mono/Documents/projects/DMMLSpring25/.venv/bin/python -m pip install ipykernel -U --force-reinstall'"
          ]
        }
      ],
      "source": [
        "df['redirect'].value_counts().plot(kind=\"bar\", logy=True)\n",
        "plt.title(\"Redirect Frequency\")\n",
        "plt.xlabel('Redirect')\n",
        "plt.xticks([0,1],['No Redirect', 'Redirect'], rotation=0)\n",
        "plt.ylabel(\"Frequency\")"
      ]
    },
    {
      "cell_type": "markdown",
      "metadata": {},
      "source": [
        "Based on this graph most of these links are not redirects. Though that is the case this information may be helpful to the models in the future."
      ]
    },
    {
      "cell_type": "markdown",
      "metadata": {
        "id": "RllARyT0_0eM"
      },
      "source": [
        "Password Entropy Calculator\n",
        "https://github.com/error-27/Entropy-Calculator/blob/main/Entropy.py\n",
        "\n",
        "The reason for trying to calculate the \"password\" entropy of these links is to see how difficult the link would be to guess. This is under the assumption that most links that are real are going to be by companies which will have common words as their links instead of a jumbled mess of characters. One issue where this algorithm will not work well is that in a Url there are no capital letters so this will not work entirely how its supposed to but can still potenially give a value that can be telling."
      ]
    },
    {
      "cell_type": "code",
      "execution_count": null,
      "metadata": {
        "colab": {
          "base_uri": "https://localhost:8080/",
          "height": 563
        },
        "id": "qkEwOGU4_zjN",
        "outputId": "8b802e3e-9bd8-4ac2-f7a1-30d1e8d32663"
      },
      "outputs": [
        {
          "ename": "",
          "evalue": "",
          "output_type": "error",
          "traceback": [
            "\u001b[1;31mRunning cells with '.venv (Python 3.13.3)' requires the ipykernel package.\n",
            "\u001b[1;31mRun the following command to install 'ipykernel' into the Python environment. \n",
            "\u001b[1;31mCommand: '/home/mono/Documents/projects/DMMLSpring25/.venv/bin/python -m pip install ipykernel -U --force-reinstall'"
          ]
        }
      ],
      "source": [
        "import math\n",
        "#!pip install tldextract\n",
        "# Needed to use tld extract becuase\n",
        "#urllib parse was not able to get all links properly\n",
        "import tldextract\n",
        "\n",
        "\n",
        "def calculate(length, char_amount):\n",
        "    if char_amount > 0:\n",
        "      return math.log2(char_amount) * length\n",
        "    else:\n",
        "      return 0\n",
        "\n",
        "\n",
        "def find_chars(password):\n",
        "    char_amount = 0\n",
        "    char_sets = [False, False, False, False]\n",
        "    char_nums = [26, 26, 10, 32]\n",
        "    for i in password:\n",
        "        if i.islower():\n",
        "            char_sets[0] = True\n",
        "        if i.isupper():\n",
        "            char_sets[1] = True\n",
        "        if i.isdigit():\n",
        "            char_sets[2] = True\n",
        "        if not i.isalnum() and i.isascii():\n",
        "            char_sets[3] = True\n",
        "\n",
        "    for x in range(4):\n",
        "        if char_sets[x]:\n",
        "            char_amount += char_nums[x]\n",
        "\n",
        "    return len(password), char_amount\n",
        "\n",
        "def calcEntropy(password):\n",
        "  domain = tldextract.extract(password).domain\n",
        "  length, amount = find_chars(domain)\n",
        "  entropy  = calculate(length, amount)\n",
        "  return entropy\n",
        "\n",
        "df['domain_entropy'] = df['url'].apply(calcEntropy)\n",
        "df"
      ]
    },
    {
      "cell_type": "code",
      "execution_count": null,
      "metadata": {
        "colab": {
          "base_uri": "https://localhost:8080/",
          "height": 466
        },
        "id": "x4Ka1XlNA6j1",
        "outputId": "3c3239bd-64df-4d20-f8f8-01e4ef497ffa"
      },
      "outputs": [
        {
          "ename": "",
          "evalue": "",
          "output_type": "error",
          "traceback": [
            "\u001b[1;31mRunning cells with '.venv (Python 3.13.3)' requires the ipykernel package.\n",
            "\u001b[1;31mRun the following command to install 'ipykernel' into the Python environment. \n",
            "\u001b[1;31mCommand: '/home/mono/Documents/projects/DMMLSpring25/.venv/bin/python -m pip install ipykernel -U --force-reinstall'"
          ]
        }
      ],
      "source": [
        "df.plot(x='domain_entropy', y='type', kind='scatter', alpha=0.2)"
      ]
    },
    {
      "cell_type": "markdown",
      "metadata": {},
      "source": [
        "Each of the classifications have seemed to lay in certain ranges that can make them more distict. Based on this graph I could see this being a factor that could help narrow the range as to which classification this would be."
      ]
    },
    {
      "cell_type": "code",
      "execution_count": null,
      "metadata": {
        "id": "esuhi86jHW8j"
      },
      "outputs": [
        {
          "ename": "",
          "evalue": "",
          "output_type": "error",
          "traceback": [
            "\u001b[1;31mRunning cells with '.venv (Python 3.13.3)' requires the ipykernel package.\n",
            "\u001b[1;31mRun the following command to install 'ipykernel' into the Python environment. \n",
            "\u001b[1;31mCommand: '/home/mono/Documents/projects/DMMLSpring25/.venv/bin/python -m pip install ipykernel -U --force-reinstall'"
          ]
        }
      ],
      "source": [
        "# Determine whether the url has https or not\n",
        "def isHTTPS(url):\n",
        "  if \"https://\" in url:\n",
        "    return 1\n",
        "  else:\n",
        "    return 0\n",
        "\n",
        "df[\"https\"] = df['url'].apply(isHTTPS)"
      ]
    },
    {
      "cell_type": "code",
      "execution_count": null,
      "metadata": {
        "colab": {
          "base_uri": "https://localhost:8080/",
          "height": 489
        },
        "id": "JzUPMb-kH5DB",
        "outputId": "7ecf237b-055e-420a-d879-680f68d3a034"
      },
      "outputs": [
        {
          "ename": "",
          "evalue": "",
          "output_type": "error",
          "traceback": [
            "\u001b[1;31mRunning cells with '.venv (Python 3.13.3)' requires the ipykernel package.\n",
            "\u001b[1;31mRun the following command to install 'ipykernel' into the Python environment. \n",
            "\u001b[1;31mCommand: '/home/mono/Documents/projects/DMMLSpring25/.venv/bin/python -m pip install ipykernel -U --force-reinstall'"
          ]
        }
      ],
      "source": [
        "df['https'].value_counts().plot(kind='bar')\n",
        "plt.title(\"Frewquency of Url that Contains HTTPS\")\n",
        "plt.xticks([0,1],['No', 'Yes'], rotation=0)\n",
        "plt.xlabel(\"HTTPS\")\n",
        "plt.ylabel(\"Frequency\")"
      ]
    },
    {
      "cell_type": "markdown",
      "metadata": {},
      "source": [
        "The distinction of whether the link is https could be an indicator of how legitimate the url is. In HTTPS will usually mean that traffic is encrypted and is more secure which is built of the http method."
      ]
    },
    {
      "cell_type": "code",
      "execution_count": null,
      "metadata": {
        "colab": {
          "base_uri": "https://localhost:8080/",
          "height": 680
        },
        "id": "qrlDPZT7LrRn",
        "outputId": "d4388a96-bdad-4731-f917-7d8f50fb11dc"
      },
      "outputs": [
        {
          "ename": "",
          "evalue": "",
          "output_type": "error",
          "traceback": [
            "\u001b[1;31mRunning cells with '.venv (Python 3.13.3)' requires the ipykernel package.\n",
            "\u001b[1;31mRun the following command to install 'ipykernel' into the Python environment. \n",
            "\u001b[1;31mCommand: '/home/mono/Documents/projects/DMMLSpring25/.venv/bin/python -m pip install ipykernel -U --force-reinstall'"
          ]
        }
      ],
      "source": [
        "corr = df.drop(['url', 'type'], axis=1).corr()\n",
        "sns.heatmap(corr )\n",
        "plt.title(\"Correlation Between Attributes\")"
      ]
    },
    {
      "cell_type": "markdown",
      "metadata": {},
      "source": [
        "An interesting piece of information is when there is `//` in correlation with `=` which would mean that there is a query in the link. It is unclear as to what that could mean but it does not seem like something that should be more common than other attributes in the the urls. As for other attributes such as `?` and `=` they are directly linked to one another since this is the way to make a query in a url."
      ]
    },
    {
      "cell_type": "markdown",
      "metadata": {
        "id": "c8Pbps1UCxUW"
      },
      "source": [
        "## Prepare Data for Model"
      ]
    },
    {
      "cell_type": "code",
      "execution_count": null,
      "metadata": {
        "id": "jb4kvo06Cv6E"
      },
      "outputs": [
        {
          "ename": "",
          "evalue": "",
          "output_type": "error",
          "traceback": [
            "\u001b[1;31mRunning cells with '.venv (Python 3.13.3)' requires the ipykernel package.\n",
            "\u001b[1;31mRun the following command to install 'ipykernel' into the Python environment. \n",
            "\u001b[1;31mCommand: '/home/mono/Documents/projects/DMMLSpring25/.venv/bin/python -m pip install ipykernel -U --force-reinstall'"
          ]
        }
      ],
      "source": [
        "ord_map= {\n",
        "    'malware' : 0,\n",
        "    'benign': 1,\n",
        "    'phishing': 2,\n",
        "    'defacement': 3,\n",
        "}\n",
        "X = df.drop(['url', 'type'], axis=1)\n",
        "y = df['type'].map(ord_map)"
      ]
    },
    {
      "cell_type": "markdown",
      "metadata": {
        "id": "T7pSKrCSKMOQ"
      },
      "source": [
        "Split the data in to train and test"
      ]
    },
    {
      "cell_type": "code",
      "execution_count": null,
      "metadata": {
        "id": "3YBC-KHuDgcH"
      },
      "outputs": [
        {
          "ename": "",
          "evalue": "",
          "output_type": "error",
          "traceback": [
            "\u001b[1;31mRunning cells with '.venv (Python 3.13.3)' requires the ipykernel package.\n",
            "\u001b[1;31mRun the following command to install 'ipykernel' into the Python environment. \n",
            "\u001b[1;31mCommand: '/home/mono/Documents/projects/DMMLSpring25/.venv/bin/python -m pip install ipykernel -U --force-reinstall'"
          ]
        }
      ],
      "source": [
        "from sklearn.model_selection import train_test_split\n",
        "Xtrain, Xtest, ytrain, ytest = train_test_split(X, y, test_size=0.33, random_state=0)"
      ]
    },
    {
      "cell_type": "markdown",
      "metadata": {
        "id": "UsurGMhllXaX"
      },
      "source": [
        "## MLP Classifier"
      ]
    },
    {
      "cell_type": "markdown",
      "metadata": {
        "id": "ewkhs6sOKR9m"
      },
      "source": [
        "Normalize the data"
      ]
    },
    {
      "cell_type": "code",
      "execution_count": null,
      "metadata": {
        "colab": {
          "base_uri": "https://localhost:8080/",
          "height": 879
        },
        "id": "ko6xMZZuKYzm",
        "outputId": "ef0eace1-9caa-4902-a649-0f4bb157b0eb"
      },
      "outputs": [
        {
          "ename": "",
          "evalue": "",
          "output_type": "error",
          "traceback": [
            "\u001b[1;31mRunning cells with '.venv (Python 3.13.3)' requires the ipykernel package.\n",
            "\u001b[1;31mRun the following command to install 'ipykernel' into the Python environment. \n",
            "\u001b[1;31mCommand: '/home/mono/Documents/projects/DMMLSpring25/.venv/bin/python -m pip install ipykernel -U --force-reinstall'"
          ]
        }
      ],
      "source": [
        "model = MLPClassifier(hidden_layer_sizes=(4, 16, 4),\n",
        "                      solver='adam',\n",
        "                      learning_rate_init=0.001,\n",
        "                      activation='relu',\n",
        "                      batch_size=64,\n",
        "                      max_iter=500,\n",
        "                      early_stopping=True,\n",
        "                      validation_fraction=0.1,\n",
        "                      verbose=True)\n",
        "\n",
        "model.fit(Xtrain, ytrain)"
      ]
    },
    {
      "cell_type": "code",
      "execution_count": null,
      "metadata": {
        "colab": {
          "base_uri": "https://localhost:8080/"
        },
        "id": "qlxgOxK1MzDo",
        "outputId": "f47108d3-ba40-4c6e-a404-f2a7decbd75f"
      },
      "outputs": [
        {
          "ename": "",
          "evalue": "",
          "output_type": "error",
          "traceback": [
            "\u001b[1;31mRunning cells with '.venv (Python 3.13.3)' requires the ipykernel package.\n",
            "\u001b[1;31mRun the following command to install 'ipykernel' into the Python environment. \n",
            "\u001b[1;31mCommand: '/home/mono/Documents/projects/DMMLSpring25/.venv/bin/python -m pip install ipykernel -U --force-reinstall'"
          ]
        }
      ],
      "source": [
        "for i, layer in enumerate(model.coefs_):\n",
        "  print('Layer', i, 'has', layer.shape[0], 'nodes, each with', layer.shape[1], 'weight(s)')"
      ]
    },
    {
      "cell_type": "code",
      "execution_count": null,
      "metadata": {
        "colab": {
          "base_uri": "https://localhost:8080/"
        },
        "id": "aG8pYVjwPwSZ",
        "outputId": "84a933de-b42e-4160-a51b-1485cc23fa12"
      },
      "outputs": [
        {
          "ename": "",
          "evalue": "",
          "output_type": "error",
          "traceback": [
            "\u001b[1;31mRunning cells with '.venv (Python 3.13.3)' requires the ipykernel package.\n",
            "\u001b[1;31mRun the following command to install 'ipykernel' into the Python environment. \n",
            "\u001b[1;31mCommand: '/home/mono/Documents/projects/DMMLSpring25/.venv/bin/python -m pip install ipykernel -U --force-reinstall'"
          ]
        }
      ],
      "source": [
        "model.best_validation_score_"
      ]
    },
    {
      "cell_type": "code",
      "execution_count": null,
      "metadata": {
        "colab": {
          "base_uri": "https://localhost:8080/",
          "height": 472
        },
        "id": "MGHDXpFVMlDx",
        "outputId": "962b0df0-be64-4952-de93-1422eb689cc3"
      },
      "outputs": [
        {
          "ename": "",
          "evalue": "",
          "output_type": "error",
          "traceback": [
            "\u001b[1;31mRunning cells with '.venv (Python 3.13.3)' requires the ipykernel package.\n",
            "\u001b[1;31mRun the following command to install 'ipykernel' into the Python environment. \n",
            "\u001b[1;31mCommand: '/home/mono/Documents/projects/DMMLSpring25/.venv/bin/python -m pip install ipykernel -U --force-reinstall'"
          ]
        }
      ],
      "source": [
        "plt.plot(model.loss_curve_)\n",
        "plt.ylabel('Loss')\n",
        "plt.xlabel('Epoch')\n",
        "plt.title('Training loss curve')\n",
        "plt.show()"
      ]
    },
    {
      "cell_type": "code",
      "execution_count": null,
      "metadata": {
        "colab": {
          "base_uri": "https://localhost:8080/"
        },
        "id": "y8m8o62ml5oO",
        "outputId": "6686f8d3-e796-464f-9f9c-19f0ee46857f"
      },
      "outputs": [
        {
          "ename": "",
          "evalue": "",
          "output_type": "error",
          "traceback": [
            "\u001b[1;31mRunning cells with '.venv (Python 3.13.3)' requires the ipykernel package.\n",
            "\u001b[1;31mRun the following command to install 'ipykernel' into the Python environment. \n",
            "\u001b[1;31mCommand: '/home/mono/Documents/projects/DMMLSpring25/.venv/bin/python -m pip install ipykernel -U --force-reinstall'"
          ]
        }
      ],
      "source": [
        "ypred = model.predict(Xtest)\n",
        "print(classification_report(ytest, ypred))"
      ]
    },
    {
      "cell_type": "markdown",
      "metadata": {
        "id": "0EL59U-mlSZp"
      },
      "source": [
        "## Random Forest Classifier"
      ]
    },
    {
      "cell_type": "code",
      "execution_count": null,
      "metadata": {
        "colab": {
          "base_uri": "https://localhost:8080/"
        },
        "id": "Ab2Pw_icjEAN",
        "outputId": "761988c7-4928-438f-c18a-dc88801b49cc"
      },
      "outputs": [
        {
          "ename": "",
          "evalue": "",
          "output_type": "error",
          "traceback": [
            "\u001b[1;31mRunning cells with '.venv (Python 3.13.3)' requires the ipykernel package.\n",
            "\u001b[1;31mRun the following command to install 'ipykernel' into the Python environment. \n",
            "\u001b[1;31mCommand: '/home/mono/Documents/projects/DMMLSpring25/.venv/bin/python -m pip install ipykernel -U --force-reinstall'"
          ]
        }
      ],
      "source": [
        "X_train, X_test, y_train, y_test = train_test_split(X, y, test_size=0.2)\n",
        "\n",
        "clf = RandomForestClassifier(n_estimators=100, max_depth=5)\n",
        "clf.fit(X_train, y_train)\n",
        "\n",
        "y_pred = clf.predict(X_test)\n",
        "print(classification_report(y_test, y_pred))"
      ]
    },
    {
      "cell_type": "markdown",
      "metadata": {},
      "source": [
        "## Grid Search"
      ]
    },
    {
      "cell_type": "code",
      "execution_count": null,
      "metadata": {},
      "outputs": [
        {
          "ename": "",
          "evalue": "",
          "output_type": "error",
          "traceback": [
            "\u001b[1;31mRunning cells with '.venv (Python 3.13.3)' requires the ipykernel package.\n",
            "\u001b[1;31mRun the following command to install 'ipykernel' into the Python environment. \n",
            "\u001b[1;31mCommand: '/home/mono/Documents/projects/DMMLSpring25/.venv/bin/python -m pip install ipykernel -U --force-reinstall'"
          ]
        }
      ],
      "source": [
        "from sklearn.model_selection import GridSearchCV\n",
        "\n",
        "# Which hyperparameters do we want to try?\n",
        "param_grid = {'n_estimators': np.arange(30, 34, 2),\n",
        "              'max_depth': np.arange(12, 18, 3),\n",
        "              'learning_rate': np.arange(0.07, 0.14, 0.01)}\n",
        "\n",
        "# We can incorporate cross-validation into the grid search\n",
        "# by specifying cv=5.\n",
        "grid = GridSearchCV(XGBClassifier(), param_grid, cv=5, verbose=1)\n",
        "\n",
        "# We'll use just the training data, so that we can evaluate the best\n",
        "# model against data that was unseen during training.\n",
        "grid.fit(Xtrain, ytrain)"
      ]
    },
    {
      "cell_type": "code",
      "execution_count": null,
      "metadata": {},
      "outputs": [
        {
          "ename": "",
          "evalue": "",
          "output_type": "error",
          "traceback": [
            "\u001b[1;31mRunning cells with '.venv (Python 3.13.3)' requires the ipykernel package.\n",
            "\u001b[1;31mRun the following command to install 'ipykernel' into the Python environment. \n",
            "\u001b[1;31mCommand: '/home/mono/Documents/projects/DMMLSpring25/.venv/bin/python -m pip install ipykernel -U --force-reinstall'"
          ]
        }
      ],
      "source": [
        "print(grid.best_params_)\n",
        "\n",
        "# and the best accuracy\n",
        "print(grid.best_score_)\n",
        "\n",
        "# then we can train the final model with the best hyperparameters\n",
        "# model = XGBClassifier(n_estimators=3, max_depth=3, learning_rate=0.1)\n",
        "# model.fit(Xtrain, ytrain)\n",
        "\n",
        "# predict the test data to see how well the model generalizes\n",
        "ypred = model.predict(Xtest)\n",
        "accuracy = accuracy_score(ytest, ypred)\n",
        "print(accuracy)"
      ]
    },
    {
      "cell_type": "markdown",
      "metadata": {},
      "source": [
        "## PCA"
      ]
    },
    {
      "cell_type": "code",
      "execution_count": null,
      "metadata": {},
      "outputs": [
        {
          "ename": "",
          "evalue": "",
          "output_type": "error",
          "traceback": [
            "\u001b[1;31mRunning cells with '.venv (Python 3.13.3)' requires the ipykernel package.\n",
            "\u001b[1;31mRun the following command to install 'ipykernel' into the Python environment. \n",
            "\u001b[1;31mCommand: '/home/mono/Documents/projects/DMMLSpring25/.venv/bin/python -m pip install ipykernel -U --force-reinstall'"
          ]
        }
      ],
      "source": [
        "pca = PCA(n_components=2)\n",
        "pca.fit(X)\n",
        "X_pca = pca.transform(X)\n",
        "print(\"original shape:   \", X.shape)\n",
        "print(\"transformed shape:\", X_pca.shape)\n",
        "\n",
        "\n",
        "fig, ax = plt.subplots()\n",
        "\n",
        "# note that transformed data becomes a numpy array\n",
        "ax.scatter(X_pca[:, 0], X_pca[:, 1], c=y, alpha=0.02)"
      ]
    },
    {
      "cell_type": "markdown",
      "metadata": {},
      "source": [
        "## Gradient Boosting"
      ]
    },
    {
      "cell_type": "code",
      "execution_count": null,
      "metadata": {},
      "outputs": [
        {
          "ename": "",
          "evalue": "",
          "output_type": "error",
          "traceback": [
            "\u001b[1;31mRunning cells with '.venv (Python 3.13.3)' requires the ipykernel package.\n",
            "\u001b[1;31mRun the following command to install 'ipykernel' into the Python environment. \n",
            "\u001b[1;31mCommand: '/home/mono/Documents/projects/DMMLSpring25/.venv/bin/python -m pip install ipykernel -U --force-reinstall'"
          ]
        }
      ],
      "source": [
        "\n",
        "model = XGBClassifier(n_estimators=1, max_depth=300, learning_rate=0.001)\n",
        "\n",
        "model.fit(Xtrain, ytrain)\n",
        "\n",
        "# make predictions for test data\n",
        "ypred = model.predict(Xtest)\n",
        "\n",
        "# evaluate predictions\n",
        "accuracy = accuracy_score(ytest, ypred)\n",
        "print(f'Accuracy: {accuracy*100:.2f}%')"
      ]
    },
    {
      "cell_type": "code",
      "execution_count": null,
      "metadata": {},
      "outputs": [
        {
          "ename": "",
          "evalue": "",
          "output_type": "error",
          "traceback": [
            "\u001b[1;31mRunning cells with '.venv (Python 3.13.3)' requires the ipykernel package.\n",
            "\u001b[1;31mRun the following command to install 'ipykernel' into the Python environment. \n",
            "\u001b[1;31mCommand: '/home/mono/Documents/projects/DMMLSpring25/.venv/bin/python -m pip install ipykernel -U --force-reinstall'"
          ]
        }
      ],
      "source": [
        "# Feature Importance\n",
        "\n",
        "# Make a DataFrame for ease of sorting and visualization\n",
        "feat_imp = pd.DataFrame({'Feature': X.columns,\n",
        "                      'Importance': model.feature_importances_})\n",
        "\n",
        "feat_imp = feat_imp.sort_values(by='Importance', ascending=False)\n",
        "\n",
        "fig, ax = plt.subplots()\n",
        "\n",
        "# horizontal bar charts can make text easier to read\n",
        "ax.barh(feat_imp['Feature'], feat_imp['Importance'])\n",
        "ax.set_xlabel('Importance')\n",
        "ax.set_title('Feature Importance in Malicious Urls')\n"
      ]
    },
    {
      "cell_type": "markdown",
      "metadata": {},
      "source": [
        "# Prediction Matrix"
      ]
    },
    {
      "cell_type": "code",
      "execution_count": null,
      "metadata": {},
      "outputs": [
        {
          "ename": "",
          "evalue": "",
          "output_type": "error",
          "traceback": [
            "\u001b[1;31mRunning cells with '.venv (Python 3.13.3)' requires the ipykernel package.\n",
            "\u001b[1;31mRun the following command to install 'ipykernel' into the Python environment. \n",
            "\u001b[1;31mCommand: '/home/mono/Documents/projects/DMMLSpring25/.venv/bin/python -m pip install ipykernel -U --force-reinstall'"
          ]
        }
      ],
      "source": [
        "from sklearn.metrics import classification_report\n",
        "from sklearn.metrics import confusion_matrix\n",
        "import seaborn as sns\n",
        "print(confusion_matrix(ytest, ypred))\n",
        "print(classification_report(ytest, ypred))\n",
        "label_map = {\n",
        "    0: 'malware',\n",
        "    1: 'benign',\n",
        "    2: 'phishing',\n",
        "    3: 'defacement',\n",
        "}\n",
        "labels = [0,1,2,3]\n",
        "cm = confusion_matrix(ytest, ypred, labels=labels)\n",
        "sns.heatmap(cm, square=True, annot=True, fmt='d', cbar=True,\n",
        "                    cmap=\"Greens\",\n",
        "                    xticklabels=list(label_map.values()),\n",
        "                    yticklabels=list(label_map.values()))\n",
        "\n",
        "plt.xlabel('Predicted Label');\n",
        "plt.ylabel('True Label')\n",
        "plt.title('Confusion Matrix')\n",
        "plt.show()"
      ]
    },
    {
      "cell_type": "markdown",
      "metadata": {},
      "source": [
        "The confusion matrix is based off of the Gradient Boosting Model, as we saw in the initial graph that most of the predicted urls were benign. Though the overall model is not entirely bad as it was able to have a good amount of urls that were properly predicted. The type of url that had the lowest recall is the the phishing urls which was incorrectly predicted as a benign url. In this case that would make sense since these phishing links are aimed at copying the benign ones. "
      ]
    },
    {
      "cell_type": "markdown",
      "metadata": {},
      "source": [
        "# Whois Data\n",
        "The data was collected using the whois package in python to extract the whois information for each url. The only urls that work were the ones that ended with `.com`, `.edu`, `.org`, and `.net`. In the case of our data set not all of them have just `.com` and consist of something like `.com.uk` which are region based tld's. Due to some of these links having odd tld's we are not able to get whois information for every link that is in the first ten thousand links so there will be some loss. "
      ]
    },
    {
      "cell_type": "code",
      "execution_count": null,
      "metadata": {},
      "outputs": [
        {
          "ename": "",
          "evalue": "",
          "output_type": "error",
          "traceback": [
            "\u001b[1;31mRunning cells with '.venv (Python 3.13.3)' requires the ipykernel package.\n",
            "\u001b[1;31mRun the following command to install 'ipykernel' into the Python environment. \n",
            "\u001b[1;31mCommand: '/home/mono/Documents/projects/DMMLSpring25/.venv/bin/python -m pip install ipykernel -U --force-reinstall'"
          ]
        }
      ],
      "source": [
        "wdf = pd.read_csv(\"malicious_phish_10k_whoisinfo.csv\")\n",
        "wdf.head()"
      ]
    },
    {
      "cell_type": "code",
      "execution_count": null,
      "metadata": {},
      "outputs": [
        {
          "ename": "",
          "evalue": "",
          "output_type": "error",
          "traceback": [
            "\u001b[1;31mRunning cells with '.venv (Python 3.13.3)' requires the ipykernel package.\n",
            "\u001b[1;31mRun the following command to install 'ipykernel' into the Python environment. \n",
            "\u001b[1;31mCommand: '/home/mono/Documents/projects/DMMLSpring25/.venv/bin/python -m pip install ipykernel -U --force-reinstall'"
          ]
        }
      ],
      "source": [
        "wdf.drop(columns=['domain_name'])"
      ]
    },
    {
      "cell_type": "markdown",
      "metadata": {},
      "source": [
        "### Drop all rows where no whois data was returned"
      ]
    },
    {
      "cell_type": "code",
      "execution_count": null,
      "metadata": {},
      "outputs": [
        {
          "ename": "",
          "evalue": "",
          "output_type": "error",
          "traceback": [
            "\u001b[1;31mRunning cells with '.venv (Python 3.13.3)' requires the ipykernel package.\n",
            "\u001b[1;31mRun the following command to install 'ipykernel' into the Python environment. \n",
            "\u001b[1;31mCommand: '/home/mono/Documents/projects/DMMLSpring25/.venv/bin/python -m pip install ipykernel -U --force-reinstall'"
          ]
        }
      ],
      "source": [
        "mask = wdf['domain_name'].isna()\n",
        "\n",
        "wdf = wdf[~mask]\n",
        "wdf.info()"
      ]
    },
    {
      "cell_type": "code",
      "execution_count": null,
      "metadata": {},
      "outputs": [
        {
          "ename": "",
          "evalue": "",
          "output_type": "error",
          "traceback": [
            "\u001b[1;31mRunning cells with '.venv (Python 3.13.3)' requires the ipykernel package.\n",
            "\u001b[1;31mRun the following command to install 'ipykernel' into the Python environment. \n",
            "\u001b[1;31mCommand: '/home/mono/Documents/projects/DMMLSpring25/.venv/bin/python -m pip install ipykernel -U --force-reinstall'"
          ]
        }
      ],
      "source": [
        "wdf['type'].value_counts().plot(kind=\"bar\")\n",
        "plt.xlabel(\"Type\")\n",
        "plt.xticks(rotation=0)\n",
        "plt.ylabel(\"Frequency\")"
      ]
    },
    {
      "cell_type": "markdown",
      "metadata": {},
      "source": [
        "### Feature Extraction"
      ]
    },
    {
      "cell_type": "code",
      "execution_count": null,
      "metadata": {},
      "outputs": [
        {
          "ename": "",
          "evalue": "",
          "output_type": "error",
          "traceback": [
            "\u001b[1;31mRunning cells with '.venv (Python 3.13.3)' requires the ipykernel package.\n",
            "\u001b[1;31mRun the following command to install 'ipykernel' into the Python environment. \n",
            "\u001b[1;31mCommand: '/home/mono/Documents/projects/DMMLSpring25/.venv/bin/python -m pip install ipykernel -U --force-reinstall'"
          ]
        }
      ],
      "source": [
        "wdf['registrar_url'] = wdf['registrar_url'].fillna(\"\")\n",
        "\n",
        "wdf.info()\n",
        "    \n"
      ]
    },
    {
      "cell_type": "code",
      "execution_count": null,
      "metadata": {},
      "outputs": [
        {
          "ename": "",
          "evalue": "",
          "output_type": "error",
          "traceback": [
            "\u001b[1;31mRunning cells with '.venv (Python 3.13.3)' requires the ipykernel package.\n",
            "\u001b[1;31mRun the following command to install 'ipykernel' into the Python environment. \n",
            "\u001b[1;31mCommand: '/home/mono/Documents/projects/DMMLSpring25/.venv/bin/python -m pip install ipykernel -U --force-reinstall'"
          ]
        }
      ],
      "source": [
        "wdf"
      ]
    },
    {
      "cell_type": "code",
      "execution_count": null,
      "metadata": {},
      "outputs": [
        {
          "ename": "",
          "evalue": "",
          "output_type": "error",
          "traceback": [
            "\u001b[1;31mRunning cells with '.venv (Python 3.13.3)' requires the ipykernel package.\n",
            "\u001b[1;31mRun the following command to install 'ipykernel' into the Python environment. \n",
            "\u001b[1;31mCommand: '/home/mono/Documents/projects/DMMLSpring25/.venv/bin/python -m pip install ipykernel -U --force-reinstall'"
          ]
        }
      ],
      "source": [
        "wdf['length'] = wdf['url'].apply(lambda x: len(x))\n",
        "\n",
        "wdf['r_length'] = wdf['registrar_url'].apply(lambda x: len(x))\n",
        "\n",
        "wdf"
      ]
    },
    {
      "cell_type": "code",
      "execution_count": null,
      "metadata": {},
      "outputs": [
        {
          "ename": "",
          "evalue": "",
          "output_type": "error",
          "traceback": [
            "\u001b[1;31mRunning cells with '.venv (Python 3.13.3)' requires the ipykernel package.\n",
            "\u001b[1;31mRun the following command to install 'ipykernel' into the Python environment. \n",
            "\u001b[1;31mCommand: '/home/mono/Documents/projects/DMMLSpring25/.venv/bin/python -m pip install ipykernel -U --force-reinstall'"
          ]
        }
      ],
      "source": [
        "attribute = ['@','?','-','=','.','#','%','+','$','!','*',',','//', '(', ')']\n",
        "for symbol in attribute:\n",
        "    wdf[symbol] = wdf['url'].apply(lambda x: x.count(symbol))\n",
        "\n",
        "for symbol in attribute:\n",
        "    wdf['r_' + symbol] = wdf['registrar_url'].apply(lambda x: x.count(symbol))\n",
        "\n",
        "wdf.info()"
      ]
    },
    {
      "cell_type": "code",
      "execution_count": null,
      "metadata": {},
      "outputs": [
        {
          "ename": "",
          "evalue": "",
          "output_type": "error",
          "traceback": [
            "\u001b[1;31mRunning cells with '.venv (Python 3.13.3)' requires the ipykernel package.\n",
            "\u001b[1;31mRun the following command to install 'ipykernel' into the Python environment. \n",
            "\u001b[1;31mCommand: '/home/mono/Documents/projects/DMMLSpring25/.venv/bin/python -m pip install ipykernel -U --force-reinstall'"
          ]
        }
      ],
      "source": [
        "# Determine if the url is being used by a url shortening service\n",
        "def detectShortened(original_url):\n",
        "  url_shorteners = [\n",
        "    \"bit.ly\",\n",
        "    \"tinyurl.com\",\n",
        "    \"ow.ly\",\n",
        "    \"is.gd\",\n",
        "    \"v.gd\",\n",
        "    \"soo.gd\",\n",
        "    \"t.co\",\n",
        "    \"lnkd.in\",\n",
        "    \"buff.ly\",\n",
        "    \"adf.ly\",\n",
        "    \"shorte.st\",\n",
        "    \"go.gl\",\n",
        "    \"y2u.be\",\n",
        "    \"youtu.be\",\n",
        "    \"goo.gl\",\n",
        "    \"po.st\",\n",
        "    \"qr.cr\",\n",
        "    \"snip.ly\",\n",
        "    \"rebrand.ly\",\n",
        "    \"bl.ink\",\n",
        "    \"kutt.it\",\n",
        "    \"cutt.ly\",\n",
        "    \"shorturl.at\",\n",
        "    \"tiny.cc\",\n",
        "    \"osf.io\",\n",
        "    \"doi.org\",\n",
        "    \"arxiv.org\",\n",
        "    \"git.io\",\n",
        "    \"tny.im\",\n",
        "    \"ulvis.net\",\n",
        "    \"yourls.org\",\n",
        "    \"polr.me\",\n",
        "    \"branch.io\",\n",
        "    \"app.goo.gl\",\n",
        "    \"bnc.lt\",\n",
        "    \"bitly.is\",\n",
        "    \"j.mp\",\n",
        "    \"on.mash.to\",\n",
        "    \"flip.it\",\n",
        "    \"instagr.am\",\n",
        "    \"pin.it\",\n",
        "    \"medium.com\",\n",
        "    \"at.at\",\n",
        "    \"su.pr\",\n",
        "    \"twitpic.com\",\n",
        "    \"flic.kr\",\n",
        "    \"posterous.com\",\n",
        "    \"digg.com\",\n",
        "    \"plurk.com\",\n",
        "    \"yep.it\",\n",
        "    \"zi.pe\",\n",
        "    \"linktr.ee\",\n",
        "    \"taplink.cc\",\n",
        "    \"bio.link\",\n",
        "    \"solo.to\",\n",
        "    \"beacons.ai\",\n",
        "    \"luma.events\",\n",
        "    \"eventbrite.com\",\n",
        "    \"bento.me\",\n",
        "    \"start.me\",\n",
        "    \"about.me\",\n",
        "    \"carrd.co\",\n",
        "    \"milkshake.app\",\n",
        "    \"paged.co\",\n",
        "    \"shortstack.com\",\n",
        "    \"woobox.com\",\n",
        "    \"easypromosapp.com\",\n",
        "    \"wishpond.com\",\n",
        "    \"vyper.io\",\n",
        "    \"kickofflabs.com\",\n",
        "    \"leadpages.net\",\n",
        "    \"instapage.com\",\n",
        "    \"unbounce.com\",\n",
        "    \"shortsw.com\"\n",
        "  ]\n",
        "\n",
        "  for url in url_shorteners:\n",
        "    if url in original_url:\n",
        "      return 1\n",
        "    else:\n",
        "      return 0\n",
        "\n",
        "\n",
        "wdf['redirect'] = wdf['url'].apply(detectShortened)\n",
        "wdf"
      ]
    },
    {
      "cell_type": "code",
      "execution_count": null,
      "metadata": {},
      "outputs": [
        {
          "ename": "",
          "evalue": "",
          "output_type": "error",
          "traceback": [
            "\u001b[1;31mRunning cells with '.venv (Python 3.13.3)' requires the ipykernel package.\n",
            "\u001b[1;31mRun the following command to install 'ipykernel' into the Python environment. \n",
            "\u001b[1;31mCommand: '/home/mono/Documents/projects/DMMLSpring25/.venv/bin/python -m pip install ipykernel -U --force-reinstall'"
          ]
        }
      ],
      "source": [
        "import math\n",
        "#!pip install tldextract\n",
        "# Needed to use tld extract becuase\n",
        "#urllib parse was not able to get all links properly\n",
        "import tldextract\n",
        "\n",
        "\n",
        "def calculate(length, char_amount):\n",
        "    if char_amount > 0:\n",
        "      return math.log2(char_amount) * length\n",
        "    else:\n",
        "      return 0\n",
        "\n",
        "\n",
        "def find_chars(password):\n",
        "    char_amount = 0\n",
        "    char_sets = [False, False, False, False]\n",
        "    char_nums = [26, 26, 10, 32]\n",
        "    for i in password:\n",
        "        if i.islower():\n",
        "            char_sets[0] = True\n",
        "        if i.isupper():\n",
        "            char_sets[1] = True\n",
        "        if i.isdigit():\n",
        "            char_sets[2] = True\n",
        "        if not i.isalnum() and i.isascii():\n",
        "            char_sets[3] = True\n",
        "\n",
        "    for x in range(4):\n",
        "        if char_sets[x]:\n",
        "            char_amount += char_nums[x]\n",
        "\n",
        "    return len(password), char_amount\n",
        "\n",
        "def calcEntropy(password):\n",
        "  domain = tldextract.extract(password).domain\n",
        "  length, amount = find_chars(domain)\n",
        "  entropy  = calculate(length, amount)\n",
        "  return entropy\n",
        "\n",
        "wdf['domain_entropy'] = wdf['url'].apply(calcEntropy)\n",
        "wdf['r_domain_entropy'] = wdf['registrar_url'].apply(calcEntropy)\n",
        "\n",
        "wdf"
      ]
    },
    {
      "cell_type": "code",
      "execution_count": null,
      "metadata": {},
      "outputs": [
        {
          "ename": "",
          "evalue": "",
          "output_type": "error",
          "traceback": [
            "\u001b[1;31mRunning cells with '.venv (Python 3.13.3)' requires the ipykernel package.\n",
            "\u001b[1;31mRun the following command to install 'ipykernel' into the Python environment. \n",
            "\u001b[1;31mCommand: '/home/mono/Documents/projects/DMMLSpring25/.venv/bin/python -m pip install ipykernel -U --force-reinstall'"
          ]
        }
      ],
      "source": [
        "wdf.plot(x='r_domain_entropy', y='type', kind='scatter', alpha=0.2)"
      ]
    },
    {
      "cell_type": "code",
      "execution_count": null,
      "metadata": {},
      "outputs": [
        {
          "ename": "",
          "evalue": "",
          "output_type": "error",
          "traceback": [
            "\u001b[1;31mRunning cells with '.venv (Python 3.13.3)' requires the ipykernel package.\n",
            "\u001b[1;31mRun the following command to install 'ipykernel' into the Python environment. \n",
            "\u001b[1;31mCommand: '/home/mono/Documents/projects/DMMLSpring25/.venv/bin/python -m pip install ipykernel -U --force-reinstall'"
          ]
        }
      ],
      "source": [
        "# Determine whether the url has https or not\n",
        "def isHTTPS(url):\n",
        "  if \"https://\" in url:\n",
        "    return 1\n",
        "  else:\n",
        "    return 0\n",
        "\n",
        "wdf[\"https\"] = wdf['url'].apply(isHTTPS)\n",
        "\n",
        "wdf[\"r_https\"] = wdf['registrar_url'].apply(isHTTPS)\n",
        "\n",
        "wdf"
      ]
    },
    {
      "cell_type": "markdown",
      "metadata": {},
      "source": [
        "### Date handling"
      ]
    },
    {
      "cell_type": "code",
      "execution_count": null,
      "metadata": {},
      "outputs": [
        {
          "ename": "",
          "evalue": "",
          "output_type": "error",
          "traceback": [
            "\u001b[1;31mRunning cells with '.venv (Python 3.13.3)' requires the ipykernel package.\n",
            "\u001b[1;31mRun the following command to install 'ipykernel' into the Python environment. \n",
            "\u001b[1;31mCommand: '/home/mono/Documents/projects/DMMLSpring25/.venv/bin/python -m pip install ipykernel -U --force-reinstall'"
          ]
        }
      ],
      "source": [
        "import pytz\n",
        "\n",
        "def get_age_days(date):\n",
        "    if pd.isna(date):\n",
        "        return -1\n",
        "    \n",
        "    date = date[:19]\n",
        "\n",
        "    url_date = pd.to_datetime(date)\n",
        "    today = pd.Timestamp.today()\n",
        "\n",
        "    return (today - url_date).days\n",
        "\n",
        "\n",
        "wdf['creation_date'] = wdf['creation_date'].apply(get_age_days)\n",
        "wdf['expiration_date'] = wdf['expiration_date'].apply(get_age_days)\n",
        "wdf['updated_date'] = wdf['updated_date'].apply(get_age_days)\n",
        "\n",
        "wdf\n",
        "\n"
      ]
    },
    {
      "cell_type": "markdown",
      "metadata": {},
      "source": [
        "### Registrar Count"
      ]
    },
    {
      "cell_type": "code",
      "execution_count": null,
      "metadata": {},
      "outputs": [
        {
          "ename": "",
          "evalue": "",
          "output_type": "error",
          "traceback": [
            "\u001b[1;31mRunning cells with '.venv (Python 3.13.3)' requires the ipykernel package.\n",
            "\u001b[1;31mRun the following command to install 'ipykernel' into the Python environment. \n",
            "\u001b[1;31mCommand: '/home/mono/Documents/projects/DMMLSpring25/.venv/bin/python -m pip install ipykernel -U --force-reinstall'"
          ]
        }
      ],
      "source": [
        "wdf['r_count'] = wdf['registrar_url'].apply(lambda x: x.count(',') + 1)"
      ]
    },
    {
      "cell_type": "markdown",
      "metadata": {},
      "source": [
        "# Model Preperation"
      ]
    },
    {
      "cell_type": "code",
      "execution_count": null,
      "metadata": {},
      "outputs": [
        {
          "ename": "",
          "evalue": "",
          "output_type": "error",
          "traceback": [
            "\u001b[1;31mRunning cells with '.venv (Python 3.13.3)' requires the ipykernel package.\n",
            "\u001b[1;31mRun the following command to install 'ipykernel' into the Python environment. \n",
            "\u001b[1;31mCommand: '/home/mono/Documents/projects/DMMLSpring25/.venv/bin/python -m pip install ipykernel -U --force-reinstall'"
          ]
        }
      ],
      "source": [
        "ord_map= {\n",
        "    'malware' : 0,\n",
        "    'benign': 1,\n",
        "    'phishing': 2,\n",
        "    'defacement': 3,\n",
        "}\n",
        "X = wdf.drop(['url', 'type', 'domain_name', 'registrar_url'], axis=1)\n",
        "y = wdf['type'].map(ord_map)"
      ]
    },
    {
      "cell_type": "markdown",
      "metadata": {},
      "source": [
        "Split data into train and test"
      ]
    },
    {
      "cell_type": "code",
      "execution_count": null,
      "metadata": {},
      "outputs": [
        {
          "ename": "",
          "evalue": "",
          "output_type": "error",
          "traceback": [
            "\u001b[1;31mRunning cells with '.venv (Python 3.13.3)' requires the ipykernel package.\n",
            "\u001b[1;31mRun the following command to install 'ipykernel' into the Python environment. \n",
            "\u001b[1;31mCommand: '/home/mono/Documents/projects/DMMLSpring25/.venv/bin/python -m pip install ipykernel -U --force-reinstall'"
          ]
        }
      ],
      "source": [
        "Xtrain, Xtest, ytrain, ytest = train_test_split(X, y, test_size=0.30, random_state=0)"
      ]
    },
    {
      "cell_type": "markdown",
      "metadata": {},
      "source": [
        "# MLP Classifier"
      ]
    },
    {
      "cell_type": "code",
      "execution_count": null,
      "metadata": {},
      "outputs": [
        {
          "ename": "",
          "evalue": "",
          "output_type": "error",
          "traceback": [
            "\u001b[1;31mRunning cells with '.venv (Python 3.13.3)' requires the ipykernel package.\n",
            "\u001b[1;31mRun the following command to install 'ipykernel' into the Python environment. \n",
            "\u001b[1;31mCommand: '/home/mono/Documents/projects/DMMLSpring25/.venv/bin/python -m pip install ipykernel -U --force-reinstall'"
          ]
        }
      ],
      "source": [
        "model = MLPClassifier(hidden_layer_sizes=(4, 16, 4),\n",
        "                      solver='adam',\n",
        "                      learning_rate_init=0.001,\n",
        "                      activation='relu',\n",
        "                      batch_size=64,\n",
        "                      max_iter=500,\n",
        "                      early_stopping=True,\n",
        "                      validation_fraction=0.1,\n",
        "                      verbose=True)\n",
        "\n",
        "model.fit(Xtrain, ytrain)"
      ]
    },
    {
      "cell_type": "code",
      "execution_count": null,
      "metadata": {},
      "outputs": [
        {
          "ename": "",
          "evalue": "",
          "output_type": "error",
          "traceback": [
            "\u001b[1;31mRunning cells with '.venv (Python 3.13.3)' requires the ipykernel package.\n",
            "\u001b[1;31mRun the following command to install 'ipykernel' into the Python environment. \n",
            "\u001b[1;31mCommand: '/home/mono/Documents/projects/DMMLSpring25/.venv/bin/python -m pip install ipykernel -U --force-reinstall'"
          ]
        }
      ],
      "source": [
        "for i, layer in enumerate(model.coefs_):\n",
        "  print('Layer', i, 'has', layer.shape[0], 'nodes, each with', layer.shape[1], 'weight(s)')"
      ]
    },
    {
      "cell_type": "code",
      "execution_count": null,
      "metadata": {},
      "outputs": [
        {
          "ename": "",
          "evalue": "",
          "output_type": "error",
          "traceback": [
            "\u001b[1;31mRunning cells with '.venv (Python 3.13.3)' requires the ipykernel package.\n",
            "\u001b[1;31mRun the following command to install 'ipykernel' into the Python environment. \n",
            "\u001b[1;31mCommand: '/home/mono/Documents/projects/DMMLSpring25/.venv/bin/python -m pip install ipykernel -U --force-reinstall'"
          ]
        }
      ],
      "source": [
        "model.best_validation_score_"
      ]
    },
    {
      "cell_type": "code",
      "execution_count": null,
      "metadata": {},
      "outputs": [
        {
          "ename": "",
          "evalue": "",
          "output_type": "error",
          "traceback": [
            "\u001b[1;31mRunning cells with '.venv (Python 3.13.3)' requires the ipykernel package.\n",
            "\u001b[1;31mRun the following command to install 'ipykernel' into the Python environment. \n",
            "\u001b[1;31mCommand: '/home/mono/Documents/projects/DMMLSpring25/.venv/bin/python -m pip install ipykernel -U --force-reinstall'"
          ]
        }
      ],
      "source": [
        "plt.plot(model.loss_curve_)\n",
        "plt.ylabel('Loss')\n",
        "plt.xlabel('Epoch')\n",
        "plt.title('Training loss curve')\n",
        "plt.show()"
      ]
    },
    {
      "cell_type": "code",
      "execution_count": null,
      "metadata": {},
      "outputs": [
        {
          "ename": "",
          "evalue": "",
          "output_type": "error",
          "traceback": [
            "\u001b[1;31mRunning cells with '.venv (Python 3.13.3)' requires the ipykernel package.\n",
            "\u001b[1;31mRun the following command to install 'ipykernel' into the Python environment. \n",
            "\u001b[1;31mCommand: '/home/mono/Documents/projects/DMMLSpring25/.venv/bin/python -m pip install ipykernel -U --force-reinstall'"
          ]
        }
      ],
      "source": [
        "ypred = model.predict(Xtest)\n",
        "print(classification_report(ytest, ypred))"
      ]
    },
    {
      "cell_type": "markdown",
      "metadata": {},
      "source": [
        "# Random Forest Classifier"
      ]
    },
    {
      "cell_type": "code",
      "execution_count": null,
      "metadata": {},
      "outputs": [
        {
          "ename": "",
          "evalue": "",
          "output_type": "error",
          "traceback": [
            "\u001b[1;31mRunning cells with '.venv (Python 3.13.3)' requires the ipykernel package.\n",
            "\u001b[1;31mRun the following command to install 'ipykernel' into the Python environment. \n",
            "\u001b[1;31mCommand: '/home/mono/Documents/projects/DMMLSpring25/.venv/bin/python -m pip install ipykernel -U --force-reinstall'"
          ]
        }
      ],
      "source": [
        "X_train, X_test, y_train, y_test = train_test_split(X, y, test_size=0.2)\n",
        "\n",
        "clf = RandomForestClassifier(n_estimators=100, max_depth=5)\n",
        "clf.fit(X_train, y_train)\n",
        "\n",
        "y_pred = clf.predict(X_test)\n",
        "print(classification_report(y_test, y_pred))"
      ]
    },
    {
      "cell_type": "markdown",
      "metadata": {},
      "source": [
        "# PCA"
      ]
    },
    {
      "cell_type": "code",
      "execution_count": null,
      "metadata": {},
      "outputs": [
        {
          "ename": "",
          "evalue": "",
          "output_type": "error",
          "traceback": [
            "\u001b[1;31mRunning cells with '.venv (Python 3.13.3)' requires the ipykernel package.\n",
            "\u001b[1;31mRun the following command to install 'ipykernel' into the Python environment. \n",
            "\u001b[1;31mCommand: '/home/mono/Documents/projects/DMMLSpring25/.venv/bin/python -m pip install ipykernel -U --force-reinstall'"
          ]
        }
      ],
      "source": [
        "pca = PCA(n_components=2)\n",
        "pca.fit(X)\n",
        "X_pca = pca.transform(X)\n",
        "print(\"original shape:   \", X.shape)\n",
        "print(\"transformed shape:\", X_pca.shape)\n",
        "\n",
        "\n",
        "fig, ax = plt.subplots()\n",
        "\n",
        "# note that transformed data becomes a numpy array\n",
        "ax.scatter(X_pca[:, 0], X_pca[:, 1], c=y, alpha=0.02)"
      ]
    },
    {
      "cell_type": "markdown",
      "metadata": {},
      "source": [
        "# XGBoost Classifier"
      ]
    },
    {
      "cell_type": "code",
      "execution_count": null,
      "metadata": {},
      "outputs": [
        {
          "ename": "",
          "evalue": "",
          "output_type": "error",
          "traceback": [
            "\u001b[1;31mRunning cells with '.venv (Python 3.13.3)' requires the ipykernel package.\n",
            "\u001b[1;31mRun the following command to install 'ipykernel' into the Python environment. \n",
            "\u001b[1;31mCommand: '/home/mono/Documents/projects/DMMLSpring25/.venv/bin/python -m pip install ipykernel -U --force-reinstall'"
          ]
        }
      ],
      "source": [
        "model = XGBClassifier(n_estimators=1, max_depth=300, learning_rate=0.001)\n",
        "\n",
        "model.fit(Xtrain, ytrain)\n",
        "\n",
        "# make predictions for test data\n",
        "ypred = model.predict(Xtest)\n",
        "\n",
        "# evaluate predictions\n",
        "accuracy = accuracy_score(ytest, ypred)\n",
        "print(f'Accuracy: {accuracy*100:.2f}%')"
      ]
    },
    {
      "cell_type": "code",
      "execution_count": null,
      "metadata": {},
      "outputs": [
        {
          "ename": "",
          "evalue": "",
          "output_type": "error",
          "traceback": [
            "\u001b[1;31mRunning cells with '.venv (Python 3.13.3)' requires the ipykernel package.\n",
            "\u001b[1;31mRun the following command to install 'ipykernel' into the Python environment. \n",
            "\u001b[1;31mCommand: '/home/mono/Documents/projects/DMMLSpring25/.venv/bin/python -m pip install ipykernel -U --force-reinstall'"
          ]
        }
      ],
      "source": [
        "param_grid = {'n_estimators': np.arange(10, 18, 1),\n",
        "              'max_depth': np.arange(12, 22, 2),\n",
        "              'learning_rate': np.arange(0.1, 0.17, 0.01)}\n",
        "\n",
        "# We can incorporate cross-validation into the grid search\n",
        "# by specifying cv=5.\n",
        "grid = GridSearchCV(XGBClassifier(), param_grid, cv=3, verbose=1)\n",
        "\n",
        "# We'll use just the training data, so that we can evaluate the best\n",
        "# model against data that was unseen during training.\n",
        "grid.fit(Xtrain, ytrain)"
      ]
    },
    {
      "cell_type": "code",
      "execution_count": null,
      "metadata": {},
      "outputs": [
        {
          "ename": "",
          "evalue": "",
          "output_type": "error",
          "traceback": [
            "\u001b[1;31mRunning cells with '.venv (Python 3.13.3)' requires the ipykernel package.\n",
            "\u001b[1;31mRun the following command to install 'ipykernel' into the Python environment. \n",
            "\u001b[1;31mCommand: '/home/mono/Documents/projects/DMMLSpring25/.venv/bin/python -m pip install ipykernel -U --force-reinstall'"
          ]
        }
      ],
      "source": [
        "print(grid.best_params_)\n",
        "\n",
        "# and the best accuracy\n",
        "print(grid.best_score_)\n",
        "\n",
        "# then we can train the final model with the best hyperparameters\n",
        "# model = XGBClassifier(n_estimators=3, max_depth=3, learning_rate=0.1)\n",
        "# model.fit(Xtrain, ytrain)\n",
        "\n",
        "# predict the test data to see how well the model generalizes\n",
        "ypred = model.predict(Xtest)\n",
        "accuracy = accuracy_score(ytest, ypred)\n",
        "print(accuracy)"
      ]
    },
    {
      "cell_type": "code",
      "execution_count": null,
      "metadata": {},
      "outputs": [
        {
          "ename": "",
          "evalue": "",
          "output_type": "error",
          "traceback": [
            "\u001b[1;31mRunning cells with '.venv (Python 3.13.3)' requires the ipykernel package.\n",
            "\u001b[1;31mRun the following command to install 'ipykernel' into the Python environment. \n",
            "\u001b[1;31mCommand: '/home/mono/Documents/projects/DMMLSpring25/.venv/bin/python -m pip install ipykernel -U --force-reinstall'"
          ]
        }
      ],
      "source": [
        "model = XGBClassifier(n_estimators=15, max_depth=18, learning_rate=0.13)\n",
        "\n",
        "model.fit(Xtrain, ytrain)\n",
        "\n",
        "# make predictions for test data\n",
        "ypred = model.predict(Xtest)\n",
        "\n",
        "# evaluate predictions\n",
        "accuracy = accuracy_score(ytest, ypred)\n",
        "print(f'Accuracy: {accuracy*100:.2f}%')"
      ]
    },
    {
      "cell_type": "code",
      "execution_count": null,
      "metadata": {},
      "outputs": [
        {
          "ename": "",
          "evalue": "",
          "output_type": "error",
          "traceback": [
            "\u001b[1;31mRunning cells with '.venv (Python 3.13.3)' requires the ipykernel package.\n",
            "\u001b[1;31mRun the following command to install 'ipykernel' into the Python environment. \n",
            "\u001b[1;31mCommand: '/home/mono/Documents/projects/DMMLSpring25/.venv/bin/python -m pip install ipykernel -U --force-reinstall'"
          ]
        }
      ],
      "source": [
        "# Feature Importance\n",
        "# Make a DataFrame for ease of sorting and visualization\n",
        "feat_imp = pd.DataFrame({'Feature': X.columns,\n",
        "                      'Importance': model.feature_importances_})\n",
        "\n",
        "feat_imp = feat_imp.sort_values(by='Importance', ascending=False)\n",
        "\n",
        "feat_imp = feat_imp[:20]\n",
        "\n",
        "fig, ax = plt.subplots()\n",
        "\n",
        "# horizontal bar charts can make text easier to read\n",
        "ax.barh(feat_imp['Feature'], feat_imp['Importance'])\n",
        "ax.set_xlabel('Importance')\n",
        "ax.set_xlim(0, 0.8)\n",
        "ax.set_title('Feature Importance in Malicious Urls')"
      ]
    },
    {
      "cell_type": "markdown",
      "metadata": {},
      "source": [
        "# Prediction Matrix"
      ]
    },
    {
      "cell_type": "code",
      "execution_count": null,
      "metadata": {},
      "outputs": [
        {
          "ename": "",
          "evalue": "",
          "output_type": "error",
          "traceback": [
            "\u001b[1;31mRunning cells with '.venv (Python 3.13.3)' requires the ipykernel package.\n",
            "\u001b[1;31mRun the following command to install 'ipykernel' into the Python environment. \n",
            "\u001b[1;31mCommand: '/home/mono/Documents/projects/DMMLSpring25/.venv/bin/python -m pip install ipykernel -U --force-reinstall'"
          ]
        }
      ],
      "source": [
        "print(confusion_matrix(ytest, ypred))\n",
        "print(classification_report(ytest, ypred))\n",
        "# label_map = {\n",
        "#     1: 'malware',\n",
        "#     0: 'benign',\n",
        "#     # 2: 'phishing',\n",
        "#     # 3: 'defacement',\n",
        "# }\n",
        "# labels = [0,1]\n",
        "label_map = {\n",
        "    0: 'malware',\n",
        "    1: 'benign',\n",
        "    2: 'phishing',\n",
        "    3: 'defacement',\n",
        "}\n",
        "labels = [0,1,2,3]\n",
        "cm = confusion_matrix(ytest, ypred, labels=labels)\n",
        "sns.heatmap(cm, square=True, annot=True, fmt='d', cbar=True,\n",
        "                    cmap=\"Greens\",\n",
        "                    xticklabels=list(label_map.values()),\n",
        "                    yticklabels=list(label_map.values()))\n",
        "\n",
        "plt.xlabel('Predicted Label');\n",
        "plt.ylabel('True Label')\n",
        "plt.title('Confusion Matrix')\n",
        "plt.show()"
      ]
    }
  ],
  "metadata": {
    "accelerator": "GPU",
    "colab": {
      "gpuType": "T4",
      "provenance": []
    },
    "kernelspec": {
      "display_name": ".venv",
      "language": "python",
      "name": "python3"
    },
    "language_info": {
      "codemirror_mode": {
        "name": "ipython",
        "version": 3
      },
      "file_extension": ".py",
      "mimetype": "text/x-python",
      "name": "python",
      "nbconvert_exporter": "python",
      "pygments_lexer": "ipython3",
      "version": "3.13.3"
    }
  },
  "nbformat": 4,
  "nbformat_minor": 0
}
